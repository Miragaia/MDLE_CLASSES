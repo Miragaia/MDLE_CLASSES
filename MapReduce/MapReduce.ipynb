{
 "cells": [
  {
   "cell_type": "markdown",
   "metadata": {},
   "source": [
    "# Map Reduce (108317)\n",
    "\n",
    "### Divided by 3 functions\n",
    "- **Map**\n",
    "- **Group_by_key**\n",
    "- **Reduce**"
   ]
  },
  {
   "cell_type": "code",
   "execution_count": 24,
   "metadata": {},
   "outputs": [
    {
     "name": "stdout",
     "output_type": "stream",
     "text": [
      "Map:  [('hello', 1), ('world', 1), ('hello', 1), ('again', 1), ('world', 1), ('of', 1), ('python', 1), ('python', 1), ('is', 1), ('great', 1), ('hello', 1), ('python', 1)]\n",
      "Group by key:  {'hello': [1, 1, 1], 'world': [1, 1], 'again': [1], 'of': [1], 'python': [1, 1, 1], 'is': [1], 'great': [1]}\n",
      "Reduce:  {'hello': 3, 'world': 2, 'again': 1, 'of': 1, 'python': 3, 'is': 1, 'great': 1}\n"
     ]
    },
    {
     "data": {
      "text/plain": [
       "{'hello': 3, 'world': 2, 'again': 1, 'of': 1, 'python': 3, 'is': 1, 'great': 1}"
      ]
     },
     "execution_count": 24,
     "metadata": {},
     "output_type": "execute_result"
    }
   ],
   "source": [
    "input = [\"hello world\",\n",
    "         \"hello again\",\n",
    "         \"world of python\",\n",
    "         \"python is great\",\n",
    "         \"hello python\"]\n",
    "\n",
    "def map(input):\n",
    "    output = []\n",
    "    for line in input:\n",
    "        for word in line.split():\n",
    "            output.append((word, 1))\n",
    "    print(\"Map: \", output)\n",
    "    return output\n",
    "\n",
    "\n",
    "def group_by_key(input):\n",
    "    output = {}\n",
    "    for word, value in input:\n",
    "        if word not in output:\n",
    "            output[word] = [value]\n",
    "        else:\n",
    "            output[word].append(value)\n",
    "    print(\"Group by key: \", output)\n",
    "    return output\n",
    "\n",
    "\n",
    "def reduce(input):\n",
    "    output = {}\n",
    "    for key, value in input.items():\n",
    "        output[key] = sum(value)\n",
    "    print(\"Reduce: \",output)\n",
    "    return output\n",
    "\n",
    "def map_reduce(input):\n",
    "    return reduce(group_by_key(map(input)))\n",
    "\n",
    "map_reduce(input)\n",
    "    \n"
   ]
  }
 ],
 "metadata": {
  "kernelspec": {
   "display_name": "ds",
   "language": "python",
   "name": "python3"
  },
  "language_info": {
   "codemirror_mode": {
    "name": "ipython",
    "version": 3
   },
   "file_extension": ".py",
   "mimetype": "text/x-python",
   "name": "python",
   "nbconvert_exporter": "python",
   "pygments_lexer": "ipython3",
   "version": "3.12.5"
  }
 },
 "nbformat": 4,
 "nbformat_minor": 2
}
