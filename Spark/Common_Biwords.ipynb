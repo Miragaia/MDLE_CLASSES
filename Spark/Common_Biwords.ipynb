{
 "cells": [
  {
   "cell_type": "markdown",
   "metadata": {},
   "source": [
    "#  Count the most common biwords with more than 3 letters"
   ]
  },
  {
   "cell_type": "code",
   "execution_count": 2,
   "metadata": {},
   "outputs": [
    {
     "name": "stdout",
     "output_type": "stream",
     "text": [
      "[('que não', 72), ('com que', 49), ('por que', 49), ('mais que', 43), ('que com', 43), ('que lhe', 33), ('que por', 31), ('depois que', 24), ('para que', 21), ('que tão', 19)]\n"
     ]
    }
   ],
   "source": [
    "from pyspark.sql import SparkSession\n",
    "\n",
    "spark = SparkSession.builder.appName(\"BiwordCount\").getOrCreate()\n",
    "\n",
    "rdd = spark.sparkContext.textFile(\"lusiadas.txt\")\n",
    "\n",
    "# Create biwords (two-word sequences)\n",
    "biwords = rdd.flatMap(lambda line: zip(line.lower().split()[:-1], line.lower().split()[1:]))\n",
    "\n",
    "# Filter out short words\n",
    "biwords = biwords.filter(lambda pair: len(pair[0]) >= 3 and len(pair[1]) >= 3)\n",
    "\n",
    "# Count occurrences\n",
    "biword_counts = biwords.map(lambda pair: (\" \".join(pair), 1)).reduceByKey(lambda a, b: a + b)\n",
    "biword_counts_sorted = biword_counts.sortBy(lambda x: x[1], ascending=False)\n",
    "\n",
    "print(biword_counts_sorted.take(10))\n"
   ]
  }
 ],
 "metadata": {
  "kernelspec": {
   "display_name": "ds",
   "language": "python",
   "name": "python3"
  },
  "language_info": {
   "codemirror_mode": {
    "name": "ipython",
    "version": 3
   },
   "file_extension": ".py",
   "mimetype": "text/x-python",
   "name": "python",
   "nbconvert_exporter": "python",
   "pygments_lexer": "ipython3",
   "version": "3.12.5"
  }
 },
 "nbformat": 4,
 "nbformat_minor": 2
}
