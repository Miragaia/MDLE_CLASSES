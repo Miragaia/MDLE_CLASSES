{
 "cells": [
  {
   "cell_type": "markdown",
   "metadata": {},
   "source": [
    "# Count the occurrences of distinct words in Lusiadas"
   ]
  },
  {
   "cell_type": "code",
   "execution_count": 5,
   "metadata": {},
   "outputs": [
    {
     "name": "stdout",
     "output_type": "stream",
     "text": [
      "[('que', 2612), ('e', 2117), ('o', 1869), ('a', 1781), ('de', 1416), ('se', 822), ('os', 712), ('do', 604), ('com', 562), ('não', 546)]\n"
     ]
    }
   ],
   "source": [
    "from pyspark.sql import SparkSession\n",
    "\n",
    "spark = SparkSession.builder.appName(\"WordCount\").getOrCreate()\n",
    "\n",
    "rdd = spark.sparkContext.textFile(\"lusiadas.txt\")\n",
    "\n",
    "# Process words\n",
    "words = rdd.flatMap(lambda line: line.lower().split())\n",
    "\n",
    "# Count occurrences\n",
    "word_counts = words.map(lambda word: (word, 1)).reduceByKey(lambda a, b: a + b)\n",
    "word_counts_sorted = word_counts.sortBy(lambda x: x[1], ascending=False)\n",
    "\n",
    "print(word_counts_sorted.take(10))\n"
   ]
  }
 ],
 "metadata": {
  "kernelspec": {
   "display_name": "ds",
   "language": "python",
   "name": "python3"
  },
  "language_info": {
   "codemirror_mode": {
    "name": "ipython",
    "version": 3
   },
   "file_extension": ".py",
   "mimetype": "text/x-python",
   "name": "python",
   "nbconvert_exporter": "python",
   "pygments_lexer": "ipython3",
   "version": "3.12.5"
  }
 },
 "nbformat": 4,
 "nbformat_minor": 2
}
