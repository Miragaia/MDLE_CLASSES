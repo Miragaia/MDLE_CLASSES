{
 "cells": [
  {
   "cell_type": "markdown",
   "metadata": {},
   "source": [
    "# Count the Unique Words by alphabet letter"
   ]
  },
  {
   "cell_type": "code",
   "execution_count": 2,
   "metadata": {},
   "outputs": [
    {
     "name": "stdout",
     "output_type": "stream",
     "text": [
      "[('a', 1470), ('b', 321), ('c', 1380), ('d', 1013), ('e', 931), ('f', 695), ('g', 322), ('h', 192), ('i', 488), ('j', 92), ('l', 407), ('m', 799), ('n', 353), ('o', 289), ('p', 1133), ('q', 129), ('r', 569), ('s', 853), ('t', 707), ('u', 59), ('v', 630), ('x', 4), ('z', 10)]\n"
     ]
    }
   ],
   "source": [
    "from pyspark.sql import SparkSession\n",
    "import re\n",
    "\n",
    "spark = SparkSession.builder.appName(\"UniqueWordsByLetter\").getOrCreate()\n",
    "\n",
    "rdd = spark.sparkContext.textFile(\"lusiadas.txt\")\n",
    "\n",
    "# Process words\n",
    "words = rdd.flatMap(lambda line: line.lower().split())\n",
    "words = words.filter(lambda word: len(word) >= 3)\n",
    "\n",
    "# Extract first letter and count unique words per letter (only a-z)\n",
    "word_pairs = words.map(lambda word: (word[0], word))\n",
    "word_pairs_filtered = word_pairs.filter(lambda pair: re.match('[a-z]', pair[0]))\n",
    "unique_word_counts = word_pairs_filtered.distinct().map(lambda pair: (pair[0], 1)).reduceByKey(lambda a, b: a + b)\n",
    "\n",
    "unique_word_counts_sorted = unique_word_counts.sortByKey()\n",
    "print(unique_word_counts_sorted.collect())"
   ]
  }
 ],
 "metadata": {
  "kernelspec": {
   "display_name": "ds",
   "language": "python",
   "name": "python3"
  },
  "language_info": {
   "codemirror_mode": {
    "name": "ipython",
    "version": 3
   },
   "file_extension": ".py",
   "mimetype": "text/x-python",
   "name": "python",
   "nbconvert_exporter": "python",
   "pygments_lexer": "ipython3",
   "version": "3.12.5"
  }
 },
 "nbformat": 4,
 "nbformat_minor": 2
}
