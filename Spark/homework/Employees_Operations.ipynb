{
 "cells": [
  {
   "cell_type": "markdown",
   "metadata": {},
   "source": [
    "# Operations Analysis over employees.csv:\n",
    "- Display schema and first few rows.\n",
    "- Filter employees with a salary greater than 5000.\n",
    "- Calculate the average salary per department.\n",
    "- Find the employee with the highest salary in each department.\n",
    "- Add a new column [Salary Increase] which increases salaries by 10% \n",
    "for employees with more than 5 years of experience.\n",
    "- Sort the employees by experience in descending order and show the top 5."
   ]
  },
  {
   "cell_type": "code",
   "execution_count": 50,
   "metadata": {},
   "outputs": [],
   "source": [
    "from pyspark.sql import SparkSession\n",
    "from pyspark.sql.functions import col, avg, max, when, round\n",
    "\n",
    "spark = SparkSession.builder.appName(\"EmployeeAnalysis\").getOrCreate()\n",
    "\n",
    "dataframe = spark.read.csv(\"employees.csv\", header=True, inferSchema=True)"
   ]
  },
  {
   "cell_type": "markdown",
   "metadata": {},
   "source": [
    "## Display schema and first few rows"
   ]
  },
  {
   "cell_type": "code",
   "execution_count": 51,
   "metadata": {},
   "outputs": [
    {
     "name": "stdout",
     "output_type": "stream",
     "text": [
      "root\n",
      " |-- EmployeeID: integer (nullable = true)\n",
      " |-- Name: string (nullable = true)\n",
      " |-- Department: string (nullable = true)\n",
      " |-- Salary: integer (nullable = true)\n",
      " |-- Experience (Years): integer (nullable = true)\n",
      "\n",
      "+----------+-------+----------+------+------------------+\n",
      "|EmployeeID|   Name|Department|Salary|Experience (Years)|\n",
      "+----------+-------+----------+------+------------------+\n",
      "|      1001|  Frank|        IT|  8231|                20|\n",
      "|      1002|  Alice|        HR|  3716|                23|\n",
      "|      1003|  Alice| Marketing|  9334|                11|\n",
      "|      1004|  David|     Sales| 14785|                 8|\n",
      "|      1005|   Kara|Operations|  8301|                13|\n",
      "|      1006|Charlie|Operations|  5720|                28|\n",
      "|      1007|    Eve|        IT|  4801|                 4|\n",
      "|      1008|   Liam|   Finance|  9243|                15|\n",
      "|      1009|    Bob|   Finance| 11775|                 5|\n",
      "|      1010|    Bob|Operations|  6456|                27|\n",
      "+----------+-------+----------+------+------------------+\n",
      "only showing top 10 rows\n",
      "\n"
     ]
    }
   ],
   "source": [
    "dataframe.printSchema()     \n",
    "dataframe.show(10)"
   ]
  },
  {
   "cell_type": "markdown",
   "metadata": {},
   "source": [
    "## Filter employees with a salary greater than 5000"
   ]
  },
  {
   "cell_type": "code",
   "execution_count": 52,
   "metadata": {},
   "outputs": [
    {
     "name": "stdout",
     "output_type": "stream",
     "text": [
      "+----------+-------+----------+------+------------------+\n",
      "|EmployeeID|   Name|Department|Salary|Experience (Years)|\n",
      "+----------+-------+----------+------+------------------+\n",
      "|      1001|  Frank|        IT|  8231|                20|\n",
      "|      1003|  Alice| Marketing|  9334|                11|\n",
      "|      1004|  David|     Sales| 14785|                 8|\n",
      "|      1005|   Kara|Operations|  8301|                13|\n",
      "|      1006|Charlie|Operations|  5720|                28|\n",
      "|      1008|   Liam|   Finance|  9243|                15|\n",
      "|      1009|    Bob|   Finance| 11775|                 5|\n",
      "|      1010|    Bob|Operations|  6456|                27|\n",
      "|      1011| Hannah|        IT|  6457|                15|\n",
      "|      1012|Charlie|        HR| 11244|                29|\n",
      "|      1013|  Alice| Marketing|  8875|                16|\n",
      "|      1014|  Frank|Operations|  7422|                28|\n",
      "|      1016|  David|   Finance|  7087|                24|\n",
      "|      1018|    Bob|     Sales| 11012|                17|\n",
      "|      1019|   Kara|        IT| 12701|                24|\n",
      "|      1020|  Alice|        IT| 14655|                18|\n",
      "|      1021|   Liam|        IT| 13081|                 7|\n",
      "|      1022|  Alice|        IT|  6022|                14|\n",
      "|      1023|    Ian|        HR| 14762|                15|\n",
      "|      1024|  Grace|Operations|  5786|                 2|\n",
      "+----------+-------+----------+------+------------------+\n",
      "only showing top 20 rows\n",
      "\n"
     ]
    }
   ],
   "source": [
    "Salary5000_dataframe = dataframe.filter(col(\"salary\") > 5000)\n",
    "Salary5000_dataframe.show()"
   ]
  },
  {
   "cell_type": "markdown",
   "metadata": {},
   "source": [
    "## Calculate the average salary per department"
   ]
  },
  {
   "cell_type": "code",
   "execution_count": 53,
   "metadata": {},
   "outputs": [
    {
     "name": "stdout",
     "output_type": "stream",
     "text": [
      "+----------+--------------+\n",
      "|department|average_salary|\n",
      "+----------+--------------+\n",
      "|     Sales|       8680.87|\n",
      "|        HR|       8596.45|\n",
      "|   Finance|        9233.8|\n",
      "| Marketing|       8708.29|\n",
      "|        IT|       8790.34|\n",
      "|Operations|       8879.69|\n",
      "+----------+--------------+\n",
      "\n"
     ]
    }
   ],
   "source": [
    "AverageSalary_Department_dataframe = dataframe.groupBy(\"department\").agg(round(avg(\"salary\"),2).alias(\"average_salary\"))\n",
    "AverageSalary_Department_dataframe.show()"
   ]
  },
  {
   "cell_type": "markdown",
   "metadata": {},
   "source": [
    "## Find the employee with the highest salary in each department"
   ]
  },
  {
   "cell_type": "code",
   "execution_count": 54,
   "metadata": {},
   "outputs": [
    {
     "name": "stdout",
     "output_type": "stream",
     "text": [
      "+-----+----------+--------------+\n",
      "| name|department|highest_salary|\n",
      "+-----+----------+--------------+\n",
      "|David|   Finance|         14928|\n",
      "|  Bob|     Sales|         14974|\n",
      "|Alice|        IT|         14859|\n",
      "|Frank|        HR|         14999|\n",
      "|  Eve|Operations|         14978|\n",
      "|Alice| Marketing|         14938|\n",
      "+-----+----------+--------------+\n",
      "\n"
     ]
    }
   ],
   "source": [
    "# Departments and their highest salary\n",
    "department_max_salary = dataframe.groupBy(\"department\").agg(max(\"salary\").alias(\"highest_salary\"))\n",
    "\n",
    "# Used to join the department_max_salary dataframe with the original dataframe (to have the employee name)\n",
    "employees_with_highest_salary = dataframe.alias(\"employee\").join(\n",
    "    department_max_salary.alias(\"dept_max\"),\n",
    "    (col(\"employee.department\") == col(\"dept_max.department\")) & \n",
    "    (col(\"employee.salary\") == col(\"dept_max.highest_salary\")),\n",
    "    \"inner\"\n",
    ").select(\n",
    "    col(\"employee.name\"),\n",
    "    col(\"employee.department\"), \n",
    "    col(\"employee.salary\").alias(\"highest_salary\")\n",
    ")\n",
    "\n",
    "employees_with_highest_salary.show()"
   ]
  },
  {
   "cell_type": "markdown",
   "metadata": {},
   "source": [
    "## Add a new column [Salary Increase] which increases salaries by 10% for employees with more than 5 years of experience"
   ]
  },
  {
   "cell_type": "code",
   "execution_count": 55,
   "metadata": {},
   "outputs": [
    {
     "name": "stdout",
     "output_type": "stream",
     "text": [
      "+----------+-------+----------+------+------------------+---------------+\n",
      "|EmployeeID|   Name|Department|Salary|Experience (Years)|salary_increase|\n",
      "+----------+-------+----------+------+------------------+---------------+\n",
      "|      1001|  Frank|        IT|  8231|                20|         9054.1|\n",
      "|      1002|  Alice|        HR|  3716|                23|         4087.6|\n",
      "|      1003|  Alice| Marketing|  9334|                11|        10267.4|\n",
      "|      1004|  David|     Sales| 14785|                 8|        16263.5|\n",
      "|      1005|   Kara|Operations|  8301|                13|         9131.1|\n",
      "|      1006|Charlie|Operations|  5720|                28|         6292.0|\n",
      "|      1007|    Eve|        IT|  4801|                 4|         4801.0|\n",
      "|      1008|   Liam|   Finance|  9243|                15|        10167.3|\n",
      "|      1009|    Bob|   Finance| 11775|                 5|        11775.0|\n",
      "|      1010|    Bob|Operations|  6456|                27|         7101.6|\n",
      "|      1011| Hannah|        IT|  6457|                15|         7102.7|\n",
      "|      1012|Charlie|        HR| 11244|                29|        12368.4|\n",
      "|      1013|  Alice| Marketing|  8875|                16|         9762.5|\n",
      "|      1014|  Frank|Operations|  7422|                28|         8164.2|\n",
      "|      1015|Charlie|        HR|  4539|                 8|         4992.9|\n",
      "|      1016|  David|   Finance|  7087|                24|         7795.7|\n",
      "|      1017|   Jack|        HR|  4195|                15|         4614.5|\n",
      "|      1018|    Bob|     Sales| 11012|                17|        12113.2|\n",
      "|      1019|   Kara|        IT| 12701|                24|        13971.1|\n",
      "|      1020|  Alice|        IT| 14655|                18|        16120.5|\n",
      "+----------+-------+----------+------+------------------+---------------+\n",
      "only showing top 20 rows\n",
      "\n"
     ]
    }
   ],
   "source": [
    "increased_salary_dataframe = dataframe.withColumn(\n",
    "    \"salary_increase\",\n",
    "    round(\n",
    "    when(col(\"Experience (Years)\") > 5, col(\"salary\") * 1.1).otherwise(col(\"salary\")), 2)\n",
    ") \n",
    "\n",
    "increased_salary_dataframe.show()"
   ]
  },
  {
   "cell_type": "markdown",
   "metadata": {},
   "source": [
    "## Sort the employees by experience in descending order and show the top 5"
   ]
  },
  {
   "cell_type": "code",
   "execution_count": 56,
   "metadata": {},
   "outputs": [
    {
     "name": "stdout",
     "output_type": "stream",
     "text": [
      "+----------+-------+----------+------+------------------+\n",
      "|EmployeeID|   Name|Department|Salary|Experience (Years)|\n",
      "+----------+-------+----------+------+------------------+\n",
      "|      1090|  Alice| Marketing|  9467|                30|\n",
      "|      1139|   Liam|     Sales|  5967|                30|\n",
      "|      1111|    Ian|     Sales|  6763|                30|\n",
      "|      1112|   Kara|        IT|  5926|                30|\n",
      "|      1081|Charlie|     Sales| 10647|                30|\n",
      "+----------+-------+----------+------+------------------+\n",
      "only showing top 5 rows\n",
      "\n"
     ]
    }
   ],
   "source": [
    "more_experient_employees = dataframe.orderBy(col(\"Experience (Years)\").desc())\n",
    "more_experient_employees.show(5)"
   ]
  }
 ],
 "metadata": {
  "kernelspec": {
   "display_name": "ds",
   "language": "python",
   "name": "python3"
  },
  "language_info": {
   "codemirror_mode": {
    "name": "ipython",
    "version": 3
   },
   "file_extension": ".py",
   "mimetype": "text/x-python",
   "name": "python",
   "nbconvert_exporter": "python",
   "pygments_lexer": "ipython3",
   "version": "3.12.5"
  }
 },
 "nbformat": 4,
 "nbformat_minor": 2
}
