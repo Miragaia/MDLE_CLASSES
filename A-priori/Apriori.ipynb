{
 "cells": [
  {
   "cell_type": "code",
   "execution_count": 13,
   "metadata": {},
   "outputs": [],
   "source": [
    "from collections import defaultdict\n",
    "from itertools import combinations\n",
    "\n",
    "transactions = [ \n",
    "    ['milk', 'bread', 'nuts','apple'],\n",
    "    ['milk', 'bread', 'nuts'],\n",
    "    ['milk', 'bread'],\n",
    "    ['milk', 'apple'],\n",
    "    ['bread', 'apple'],\n",
    "]"
   ]
  },
  {
   "cell_type": "markdown",
   "metadata": {},
   "source": [
    "## Apriori Frequent 1-itemsets"
   ]
  },
  {
   "cell_type": "code",
   "execution_count": 14,
   "metadata": {},
   "outputs": [
    {
     "data": {
      "text/plain": [
       "{'milk': 4, 'bread': 4, 'apple': 3}"
      ]
     },
     "execution_count": 14,
     "metadata": {},
     "output_type": "execute_result"
    }
   ],
   "source": [
    "def frequent_1_itemsets(transactions):   \n",
    "    item_count = defaultdict(int)\n",
    "    \n",
    "    for transaction in transactions:\n",
    "        for item in transaction:\n",
    "            item_count[item] += 1\n",
    "    \n",
    "    frequent_items = {}\n",
    "    for item, count in item_count.items():\n",
    "        support = count / len(transactions)\n",
    "        if support >= 0.6:\n",
    "            frequent_items[item] = count\n",
    "    \n",
    "    return frequent_items\n",
    "\n",
    "frequent_1_itemsets(transactions)"
   ]
  },
  {
   "cell_type": "markdown",
   "metadata": {},
   "source": [
    "## Apriori Frequent 2-itemsets"
   ]
  },
  {
   "cell_type": "code",
   "execution_count": 17,
   "metadata": {},
   "outputs": [
    {
     "data": {
      "text/plain": [
       "{('milk', 'bread'): 3}"
      ]
     },
     "execution_count": 17,
     "metadata": {},
     "output_type": "execute_result"
    }
   ],
   "source": [
    "def frequent_2_itemsets(transactions):\n",
    "    item_count = defaultdict(int)\n",
    "    \n",
    "    for transaction in transactions:\n",
    "        for item_pair in combinations(transaction, 2):\n",
    "            item_count[item_pair] += 1\n",
    "    \n",
    "    frequent_items = {}\n",
    "    for item_pair, count in item_count.items():\n",
    "        support = count / len(transactions)\n",
    "        if support >= 0.6:\n",
    "            frequent_items[item_pair] = count\n",
    "    \n",
    "    return frequent_items\n",
    "\n",
    "frequent_2_itemsets(transactions)"
   ]
  },
  {
   "cell_type": "markdown",
   "metadata": {},
   "source": [
    "## Confidence"
   ]
  },
  {
   "cell_type": "code",
   "execution_count": 32,
   "metadata": {},
   "outputs": [
    {
     "name": "stdout",
     "output_type": "stream",
     "text": [
      "{('milk', 'bread'): {'milk->bread': 0.75, 'bread->milk': 0.75}}\n"
     ]
    },
    {
     "data": {
      "text/plain": [
       "{('milk', 'bread'): {'milk->bread': 0.75, 'bread->milk': 0.75}}"
      ]
     },
     "execution_count": 32,
     "metadata": {},
     "output_type": "execute_result"
    }
   ],
   "source": [
    "def confidence(item_pairs, transactions):\n",
    "    item_count = defaultdict(int)\n",
    "    \n",
    "    for transaction in transactions:\n",
    "        for item in transaction:\n",
    "            item_count[item] += 1\n",
    "    \n",
    "    confidence_values = {}\n",
    "    for item_pair, count in item_pairs.items():\n",
    "        support_AB = count\n",
    "        support_A = item_count[item_pair[0]]\n",
    "        support_B = item_count[item_pair[1]]\n",
    "        \n",
    "        confidence_A_to_B = support_AB / support_A\n",
    "        confidence_B_to_A = support_AB / support_B\n",
    "        \n",
    "        if confidence_A_to_B >= 0.7 or confidence_B_to_A >= 0.7:\n",
    "            confidence_values[item_pair] = {\n",
    "            f'{item_pair[0]}->{item_pair[1]}': confidence_A_to_B,\n",
    "            f'{item_pair[1]}->{item_pair[0]}': confidence_B_to_A\n",
    "            }\n",
    "\n",
    "    print(confidence_values)\n",
    "    \n",
    "    return confidence_values\n",
    "\n",
    "confidence(frequent_2_itemsets(transactions), transactions)"
   ]
  }
 ],
 "metadata": {
  "kernelspec": {
   "display_name": "ds",
   "language": "python",
   "name": "python3"
  },
  "language_info": {
   "codemirror_mode": {
    "name": "ipython",
    "version": 3
   },
   "file_extension": ".py",
   "mimetype": "text/x-python",
   "name": "python",
   "nbconvert_exporter": "python",
   "pygments_lexer": "ipython3",
   "version": "3.12.5"
  }
 },
 "nbformat": 4,
 "nbformat_minor": 2
}
